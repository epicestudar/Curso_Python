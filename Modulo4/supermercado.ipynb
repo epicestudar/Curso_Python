{
 "cells": [
  {
   "cell_type": "code",
   "execution_count": 7,
   "metadata": {},
   "outputs": [],
   "source": [
    "import pandas as pd\n",
    "import matplotlib.pyplot as plt"
   ]
  },
  {
   "cell_type": "code",
   "execution_count": 8,
   "metadata": {},
   "outputs": [
    {
     "name": "stdout",
     "output_type": "stream",
     "text": [
      "                                               lojas\n",
      "0  {'id': 1, 'dados_mensais': [{'mes': 1, 'fatura...\n",
      "1  {'id': 2, 'dados_mensais': [{'mes': 1, 'fatura...\n",
      "2  {'id': 3, 'dados_mensais': [{'mes': 1, 'fatura...\n",
      "3  {'id': 4, 'dados_mensais': [{'mes': 1, 'fatura...\n",
      "4  {'id': 5, 'dados_mensais': [{'mes': 1, 'fatura...\n"
     ]
    }
   ],
   "source": [
    "# Carregar o arquivo JSON usando o pandas\n",
    "df = pd.read_json('supermarket.json')\n",
    "\n",
    "# Exibir as primeiras linhas do DataFrame para verificar se os dados foram carregados corretamente\n",
    "print(df.head())"
   ]
  },
  {
   "cell_type": "code",
   "execution_count": 9,
   "metadata": {},
   "outputs": [],
   "source": [
    "# Função para extrair os dados de um determinado mês para uma loja específica\n",
    "def extrair_dados_loja(loja_id, mes):\n",
    "    for loja in df['lojas']:\n",
    "        if loja['id'] == loja_id:\n",
    "            for dados_mensais in loja['dados_mensais']:\n",
    "                if dados_mensais['mes'] == mes:\n",
    "                    return dados_mensais\n",
    "    return None"
   ]
  },
  {
   "cell_type": "code",
   "execution_count": 10,
   "metadata": {},
   "outputs": [],
   "source": [
    "# Função para plotar gráfico de linha com os dados de faturamento ao longo do ano para uma loja\n",
    "def plotar_grafico_faturamento(loja_id):\n",
    "    faturamento_mensal = []\n",
    "    meses = range(1, 13)\n",
    "    for mes in meses:\n",
    "        dados_mes = extrair_dados_loja(loja_id, mes)\n",
    "        faturamento_mensal.append(dados_mes['faturamento'])\n",
    "\n",
    "    plt.plot(meses, faturamento_mensal, marker='o')\n",
    "    plt.title(f'Faturamento Mensal - Loja {loja_id}')\n",
    "    plt.xlabel('Mês')\n",
    "    plt.ylabel('Faturamento')\n",
    "    plt.xticks(meses)\n",
    "    plt.grid(True)\n",
    "    plt.show()"
   ]
  },
  {
   "cell_type": "code",
   "execution_count": 13,
   "metadata": {},
   "outputs": [
    {
     "data": {
      "text/plain": [
       "53800"
      ]
     },
     "execution_count": 13,
     "metadata": {},
     "output_type": "execute_result"
    }
   ],
   "source": [
    "def extrair_faturamento_loja_mes(loja_id, mes):\n",
    "    for loja in df['lojas']:\n",
    "        if loja['id'] == loja_id:\n",
    "            for dados_mensais in loja['dados_mensais']:\n",
    "                if dados_mensais['mes'] == mes:\n",
    "                    for faturamento in dados_mensais['faturamento']:\n",
    "                        faturamento = sum(dados_mensais['faturamento'].values())\n",
    "                    return faturamento\n",
    "    \n",
    "    return None\n",
    "extrair_faturamento_loja_mes(1, 1)"
   ]
  },
  {
   "cell_type": "code",
   "execution_count": 14,
   "metadata": {},
   "outputs": [
    {
     "name": "stdout",
     "output_type": "stream",
     "text": [
      "<function extrair_faturamento_loja_mes at 0x000001EB901E7B00>\n",
      "<function extrair_faturamento_loja_mes at 0x000001EB901E7B00>\n",
      "<function extrair_faturamento_loja_mes at 0x000001EB901E7B00>\n",
      "<function extrair_faturamento_loja_mes at 0x000001EB901E7B00>\n",
      "<function extrair_faturamento_loja_mes at 0x000001EB901E7B00>\n"
     ]
    }
   ],
   "source": [
    "for i in range(1, 6):\n",
    "    print(extrair_faturamento_loja_mes)"
   ]
  },
  {
   "cell_type": "code",
   "execution_count": null,
   "metadata": {},
   "outputs": [],
   "source": [
    "def extrair_faturamento_loja_ano(loja_id):\n",
    "    for loja in df['lojas']:\n",
    "        if loja['id'] == loja_id:\n",
    "            mes=1\n",
    "            faturamento_anual=0\n",
    "            for mes in loja['dados_mensais']:\n",
    "                faturamento = sum(mes['faturamento'].values())\n",
    "                print(faturamento)\n",
    "            return faturamento\n",
    "    return None\n",
    "extrair_faturamento_loja_mes(1, 1)"
   ]
  },
  {
   "cell_type": "code",
   "execution_count": 15,
   "metadata": {},
   "outputs": [
    {
     "ename": "TypeError",
     "evalue": "extrair_faturamento_loja_mes() missing 1 required positional argument: 'mes'",
     "output_type": "error",
     "traceback": [
      "\u001b[1;31m---------------------------------------------------------------------------\u001b[0m",
      "\u001b[1;31mTypeError\u001b[0m                                 Traceback (most recent call last)",
      "Cell \u001b[1;32mIn[15], line 4\u001b[0m\n\u001b[0;32m      2\u001b[0m faturamento \u001b[38;5;241m=\u001b[39m[]\n\u001b[0;32m      3\u001b[0m \u001b[38;5;28;01mfor\u001b[39;00m i \u001b[38;5;129;01min\u001b[39;00m lojas:\n\u001b[1;32m----> 4\u001b[0m     faturamento\u001b[38;5;241m.\u001b[39mappend(\u001b[43mextrair_faturamento_loja_mes\u001b[49m\u001b[43m(\u001b[49m\u001b[43mi\u001b[49m\u001b[43m)\u001b[49m)\n\u001b[0;32m      6\u001b[0m plt\u001b[38;5;241m.\u001b[39mplot(lojas, faturamento, \u001b[38;5;124m'\u001b[39m\u001b[38;5;124mo\u001b[39m\u001b[38;5;124m'\u001b[39m)\n",
      "\u001b[1;31mTypeError\u001b[0m: extrair_faturamento_loja_mes() missing 1 required positional argument: 'mes'"
     ]
    }
   ],
   "source": [
    "lojas = range(1, 6)\n",
    "faturamento =[]\n",
    "for i in lojas:\n",
    "    faturamento.append(extrair_faturamento_loja_mes(i))\n",
    "\n",
    "plt.plot(lojas, faturamento, 'o')"
   ]
  }
 ],
 "metadata": {
  "kernelspec": {
   "display_name": "Python 3",
   "language": "python",
   "name": "python3"
  },
  "language_info": {
   "codemirror_mode": {
    "name": "ipython",
    "version": 3
   },
   "file_extension": ".py",
   "mimetype": "text/x-python",
   "name": "python",
   "nbconvert_exporter": "python",
   "pygments_lexer": "ipython3",
   "version": "3.12.1"
  }
 },
 "nbformat": 4,
 "nbformat_minor": 2
}
